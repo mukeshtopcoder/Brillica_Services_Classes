{
 "cells": [
  {
   "cell_type": "code",
   "execution_count": 1,
   "id": "27967026-6c0b-4ee5-beac-645ff5441505",
   "metadata": {},
   "outputs": [],
   "source": [
    "import pandas as pd"
   ]
  },
  {
   "cell_type": "code",
   "execution_count": 2,
   "id": "598f5cc9-b0a6-4ce6-8b4a-7a9048dfaf46",
   "metadata": {},
   "outputs": [
    {
     "name": "stdout",
     "output_type": "stream",
     "text": [
      "Requirement already satisfied: openpyxl in c:\\users\\this\\appdata\\local\\programs\\python\\python312\\lib\\site-packages (3.1.5)\n",
      "Requirement already satisfied: et-xmlfile in c:\\users\\this\\appdata\\local\\programs\\python\\python312\\lib\\site-packages (from openpyxl) (2.0.0)\n"
     ]
    },
    {
     "name": "stderr",
     "output_type": "stream",
     "text": [
      "\n",
      "[notice] A new release of pip is available: 24.3.1 -> 25.1.1\n",
      "[notice] To update, run: python.exe -m pip install --upgrade pip\n"
     ]
    }
   ],
   "source": [
    "!pip install openpyxl"
   ]
  },
  {
   "cell_type": "code",
   "execution_count": 3,
   "id": "705f2170-4a16-4b58-b5a5-241674e50d37",
   "metadata": {},
   "outputs": [],
   "source": [
    "df = pd.read_excel(r\"C:\\Users\\THIS\\Downloads\\Financial_Sample.xlsx\")"
   ]
  },
  {
   "cell_type": "code",
   "execution_count": 5,
   "id": "52c0c32d-36e5-436a-ae43-a57522db101b",
   "metadata": {},
   "outputs": [
    {
     "data": {
      "text/html": [
       "<div>\n",
       "<style scoped>\n",
       "    .dataframe tbody tr th:only-of-type {\n",
       "        vertical-align: middle;\n",
       "    }\n",
       "\n",
       "    .dataframe tbody tr th {\n",
       "        vertical-align: top;\n",
       "    }\n",
       "\n",
       "    .dataframe thead th {\n",
       "        text-align: right;\n",
       "    }\n",
       "</style>\n",
       "<table border=\"1\" class=\"dataframe\">\n",
       "  <thead>\n",
       "    <tr style=\"text-align: right;\">\n",
       "      <th></th>\n",
       "      <th>Segment</th>\n",
       "      <th>Country</th>\n",
       "      <th>Product</th>\n",
       "      <th>Discount Band</th>\n",
       "      <th>Units Sold</th>\n",
       "      <th>Manufacturing Price</th>\n",
       "      <th>Sale Price</th>\n",
       "      <th>Gross Sales</th>\n",
       "      <th>Discounts</th>\n",
       "      <th>Sales</th>\n",
       "      <th>COGS</th>\n",
       "      <th>Profit</th>\n",
       "      <th>Date</th>\n",
       "      <th>Month Number</th>\n",
       "      <th>Month Name</th>\n",
       "      <th>Year</th>\n",
       "    </tr>\n",
       "  </thead>\n",
       "  <tbody>\n",
       "    <tr>\n",
       "      <th>0</th>\n",
       "      <td>Government</td>\n",
       "      <td>Canada</td>\n",
       "      <td>Carretera</td>\n",
       "      <td>NaN</td>\n",
       "      <td>1618.5</td>\n",
       "      <td>3</td>\n",
       "      <td>20.0</td>\n",
       "      <td>32370.0</td>\n",
       "      <td>0.0</td>\n",
       "      <td>32370.0</td>\n",
       "      <td>16185.0</td>\n",
       "      <td>16185.0</td>\n",
       "      <td>2014-01-01</td>\n",
       "      <td>1</td>\n",
       "      <td>January</td>\n",
       "      <td>2014</td>\n",
       "    </tr>\n",
       "    <tr>\n",
       "      <th>1</th>\n",
       "      <td>Government</td>\n",
       "      <td>Germany</td>\n",
       "      <td>Carretera</td>\n",
       "      <td>NaN</td>\n",
       "      <td>1321.0</td>\n",
       "      <td>3</td>\n",
       "      <td>20.0</td>\n",
       "      <td>26420.0</td>\n",
       "      <td>0.0</td>\n",
       "      <td>26420.0</td>\n",
       "      <td>13210.0</td>\n",
       "      <td>13210.0</td>\n",
       "      <td>2014-01-01</td>\n",
       "      <td>1</td>\n",
       "      <td>January</td>\n",
       "      <td>2014</td>\n",
       "    </tr>\n",
       "  </tbody>\n",
       "</table>\n",
       "</div>"
      ],
      "text/plain": [
       "      Segment  Country    Product Discount Band  Units Sold  \\\n",
       "0  Government   Canada  Carretera           NaN      1618.5   \n",
       "1  Government  Germany  Carretera           NaN      1321.0   \n",
       "\n",
       "   Manufacturing Price  Sale Price  Gross Sales  Discounts    Sales     COGS  \\\n",
       "0                    3        20.0      32370.0        0.0  32370.0  16185.0   \n",
       "1                    3        20.0      26420.0        0.0  26420.0  13210.0   \n",
       "\n",
       "    Profit       Date  Month Number Month Name  Year  \n",
       "0  16185.0 2014-01-01             1    January  2014  \n",
       "1  13210.0 2014-01-01             1    January  2014  "
      ]
     },
     "execution_count": 5,
     "metadata": {},
     "output_type": "execute_result"
    }
   ],
   "source": [
    "df.head(2)"
   ]
  },
  {
   "cell_type": "code",
   "execution_count": 6,
   "id": "8d4740de-94fb-440a-82c8-80af82cf24a9",
   "metadata": {},
   "outputs": [
    {
     "data": {
      "text/plain": [
       "(700, 16)"
      ]
     },
     "execution_count": 6,
     "metadata": {},
     "output_type": "execute_result"
    }
   ],
   "source": [
    "df.shape"
   ]
  },
  {
   "cell_type": "code",
   "execution_count": 7,
   "id": "3f402c94-5ef5-4f27-a900-758ed1583b36",
   "metadata": {},
   "outputs": [
    {
     "name": "stdout",
     "output_type": "stream",
     "text": [
      "<class 'pandas.core.frame.DataFrame'>\n",
      "RangeIndex: 700 entries, 0 to 699\n",
      "Data columns (total 16 columns):\n",
      " #   Column               Non-Null Count  Dtype         \n",
      "---  ------               --------------  -----         \n",
      " 0   Segment              692 non-null    object        \n",
      " 1   Country              689 non-null    object        \n",
      " 2   Product              692 non-null    object        \n",
      " 3   Discount Band        638 non-null    object        \n",
      " 4   Units Sold           695 non-null    float64       \n",
      " 5   Manufacturing Price  700 non-null    int64         \n",
      " 6   Sale Price           693 non-null    float64       \n",
      " 7   Gross Sales          695 non-null    float64       \n",
      " 8   Discounts            695 non-null    float64       \n",
      " 9    Sales               700 non-null    float64       \n",
      " 10  COGS                 700 non-null    float64       \n",
      " 11  Profit               700 non-null    float64       \n",
      " 12  Date                 700 non-null    datetime64[ns]\n",
      " 13  Month Number         700 non-null    int64         \n",
      " 14  Month Name           700 non-null    object        \n",
      " 15  Year                 700 non-null    int64         \n",
      "dtypes: datetime64[ns](1), float64(7), int64(3), object(5)\n",
      "memory usage: 87.6+ KB\n"
     ]
    }
   ],
   "source": [
    "df.info()"
   ]
  },
  {
   "cell_type": "code",
   "execution_count": 8,
   "id": "c12be3fe-f5c4-4a9d-b6dd-36d8b487140d",
   "metadata": {
    "scrolled": true
   },
   "outputs": [
    {
     "data": {
      "text/plain": [
       "Segment                 8\n",
       "Country                11\n",
       "Product                 8\n",
       "Discount Band          62\n",
       "Units Sold              5\n",
       "Manufacturing Price     0\n",
       "Sale Price              7\n",
       "Gross Sales             5\n",
       "Discounts               5\n",
       " Sales                  0\n",
       "COGS                    0\n",
       "Profit                  0\n",
       "Date                    0\n",
       "Month Number            0\n",
       "Month Name              0\n",
       "Year                    0\n",
       "dtype: int64"
      ]
     },
     "execution_count": 8,
     "metadata": {},
     "output_type": "execute_result"
    }
   ],
   "source": [
    "df.isnull().sum()"
   ]
  },
  {
   "cell_type": "code",
   "execution_count": 50,
   "id": "a1ec4312-f6ba-41c1-9167-1706970fddc4",
   "metadata": {},
   "outputs": [
    {
     "data": {
      "text/plain": [
       "Index(['Segment', 'Country', 'Product', 'Discount Band', 'Units Sold',\n",
       "       'Manufacturing Price', 'Sale Price', 'Gross Sales', 'Discounts',\n",
       "       ' Sales', 'COGS', 'Profit', 'Date', 'Month Number', 'Month Name',\n",
       "       'Year'],\n",
       "      dtype='object')"
      ]
     },
     "execution_count": 50,
     "metadata": {},
     "output_type": "execute_result"
    }
   ],
   "source": [
    "df.columns"
   ]
  },
  {
   "cell_type": "code",
   "execution_count": 32,
   "id": "3b23e590-1669-4ba3-8cba-bb319ce17316",
   "metadata": {},
   "outputs": [
    {
     "name": "stdout",
     "output_type": "stream",
     "text": [
      "['Segment', 'Country', 'Product', 'Discount Band', 'Units Sold', 'Sale Price', 'Gross Sales', 'Discounts']\n"
     ]
    }
   ],
   "source": [
    "# Which Column Has Missing Value\n",
    "li = []\n",
    "for col in df.columns:\n",
    "    if df[col].isnull().sum() != 0:\n",
    "        li.append(col)\n",
    "print(li)"
   ]
  },
  {
   "cell_type": "code",
   "execution_count": 31,
   "id": "c13bf5d7-6cbd-47c7-8064-510587b9dd6c",
   "metadata": {},
   "outputs": [
    {
     "name": "stdout",
     "output_type": "stream",
     "text": [
      "<class 'pandas.core.frame.DataFrame'>\n",
      "RangeIndex: 700 entries, 0 to 699\n",
      "Data columns (total 8 columns):\n",
      " #   Column         Non-Null Count  Dtype  \n",
      "---  ------         --------------  -----  \n",
      " 0   Segment        692 non-null    object \n",
      " 1   Country        689 non-null    object \n",
      " 2   Product        692 non-null    object \n",
      " 3   Discount Band  638 non-null    object \n",
      " 4   Units Sold     695 non-null    float64\n",
      " 5   Sale Price     693 non-null    float64\n",
      " 6   Gross Sales    695 non-null    float64\n",
      " 7   Discounts      695 non-null    float64\n",
      "dtypes: float64(4), object(4)\n",
      "memory usage: 43.9+ KB\n"
     ]
    }
   ],
   "source": [
    "df[li].info()"
   ]
  },
  {
   "cell_type": "code",
   "execution_count": 36,
   "id": "0e3cf05d-e7b4-4165-995b-dad0a702ce09",
   "metadata": {},
   "outputs": [
    {
     "data": {
      "text/plain": [
       "'Government'"
      ]
     },
     "execution_count": 36,
     "metadata": {},
     "output_type": "execute_result"
    }
   ],
   "source": [
    "# finding mode of a column\n",
    "df['Segment'].mode()[0]"
   ]
  },
  {
   "cell_type": "code",
   "execution_count": 40,
   "id": "c3bd0ba8-4790-40c3-bd8e-03bc317ca7ef",
   "metadata": {},
   "outputs": [
    {
     "data": {
      "text/plain": [
       "Index(['Segment', 'Country', 'Product', 'Discount Band'], dtype='object')"
      ]
     },
     "execution_count": 40,
     "metadata": {},
     "output_type": "execute_result"
    }
   ],
   "source": [
    "df[li].select_dtypes(include=\"object\").columns"
   ]
  },
  {
   "cell_type": "code",
   "execution_count": 41,
   "id": "2b4071f2-512f-40e8-aebd-8a7ad15dfa64",
   "metadata": {},
   "outputs": [],
   "source": [
    "# Fill MODE value in all object data type columns\n",
    "for col in df[li].select_dtypes(include=\"object\").columns:\n",
    "    df[col] = df[col].fillna(value=df[col].mode()[0])"
   ]
  },
  {
   "cell_type": "code",
   "execution_count": 42,
   "id": "8a4f2728-9935-4b0f-a7c4-e21bb3147816",
   "metadata": {},
   "outputs": [
    {
     "data": {
      "text/plain": [
       "Segment          0\n",
       "Country          0\n",
       "Product          0\n",
       "Discount Band    0\n",
       "dtype: int64"
      ]
     },
     "execution_count": 42,
     "metadata": {},
     "output_type": "execute_result"
    }
   ],
   "source": [
    "df[li].select_dtypes(include=\"object\").isnull().sum()"
   ]
  },
  {
   "cell_type": "code",
   "execution_count": 44,
   "id": "c62cb2b9-340c-4f7f-936d-9af3405a90be",
   "metadata": {},
   "outputs": [
    {
     "data": {
      "text/plain": [
       "Index(['Units Sold', 'Sale Price', 'Gross Sales', 'Discounts'], dtype='object')"
      ]
     },
     "execution_count": 44,
     "metadata": {},
     "output_type": "execute_result"
    }
   ],
   "source": [
    "# Filling float columns with mean/average\n",
    "df[li].select_dtypes(include=\"float64\").columns"
   ]
  },
  {
   "cell_type": "code",
   "execution_count": 46,
   "id": "b0e633ee-c903-48fd-8aec-ce67a3d03d27",
   "metadata": {},
   "outputs": [
    {
     "data": {
      "text/plain": [
       "Units Sold     5\n",
       "Sale Price     7\n",
       "Gross Sales    5\n",
       "Discounts      5\n",
       "dtype: int64"
      ]
     },
     "execution_count": 46,
     "metadata": {},
     "output_type": "execute_result"
    }
   ],
   "source": [
    "df[li].select_dtypes(include=\"float64\").isnull().sum()"
   ]
  },
  {
   "cell_type": "code",
   "execution_count": 47,
   "id": "6b756cf2-7788-4661-96e2-840ad7f72e54",
   "metadata": {},
   "outputs": [],
   "source": [
    "for col in df[li].select_dtypes(include=\"float64\").columns:\n",
    "    df[col] = df[col].fillna(value=df[col].mean())"
   ]
  },
  {
   "cell_type": "code",
   "execution_count": 48,
   "id": "5f56501c-0804-4cb6-8a24-6764945dbdd6",
   "metadata": {},
   "outputs": [
    {
     "data": {
      "text/plain": [
       "Units Sold     0\n",
       "Sale Price     0\n",
       "Gross Sales    0\n",
       "Discounts      0\n",
       "dtype: int64"
      ]
     },
     "execution_count": 48,
     "metadata": {},
     "output_type": "execute_result"
    }
   ],
   "source": [
    "df[li].select_dtypes(include=\"float64\").isnull().sum()"
   ]
  },
  {
   "cell_type": "code",
   "execution_count": 49,
   "id": "24b1063f-8152-44e6-92ef-e3d5811bd812",
   "metadata": {},
   "outputs": [
    {
     "data": {
      "text/plain": [
       "Segment                0\n",
       "Country                0\n",
       "Product                0\n",
       "Discount Band          0\n",
       "Units Sold             0\n",
       "Manufacturing Price    0\n",
       "Sale Price             0\n",
       "Gross Sales            0\n",
       "Discounts              0\n",
       " Sales                 0\n",
       "COGS                   0\n",
       "Profit                 0\n",
       "Date                   0\n",
       "Month Number           0\n",
       "Month Name             0\n",
       "Year                   0\n",
       "dtype: int64"
      ]
     },
     "execution_count": 49,
     "metadata": {},
     "output_type": "execute_result"
    }
   ],
   "source": [
    "df.isnull().sum()"
   ]
  },
  {
   "cell_type": "code",
   "execution_count": 51,
   "id": "c6a75a0b-077e-4c93-8f36-bda8c4de95be",
   "metadata": {},
   "outputs": [
    {
     "data": {
      "text/plain": [
       "Index(['Segment', 'Country', 'Product', 'Discount Band', 'Units Sold',\n",
       "       'Manufacturing Price', 'Sale Price', 'Gross Sales', 'Discounts',\n",
       "       ' Sales', 'COGS', 'Profit', 'Date', 'Month Number', 'Month Name',\n",
       "       'Year'],\n",
       "      dtype='object')"
      ]
     },
     "execution_count": 51,
     "metadata": {},
     "output_type": "execute_result"
    }
   ],
   "source": [
    "df.columns"
   ]
  },
  {
   "cell_type": "code",
   "execution_count": 53,
   "id": "7144a3b6-dfda-4c14-a403-72ba67221b39",
   "metadata": {},
   "outputs": [
    {
     "data": {
      "text/plain": [
       "array(['Government', 'Midmarket', 'Channel Partners', 'Enterprise',\n",
       "       'Small Business'], dtype=object)"
      ]
     },
     "execution_count": 53,
     "metadata": {},
     "output_type": "execute_result"
    }
   ],
   "source": [
    "df['Segment'].unique()"
   ]
  },
  {
   "cell_type": "code",
   "execution_count": 54,
   "id": "0661aa5e-a1fb-442a-9421-8f778074d75c",
   "metadata": {},
   "outputs": [
    {
     "data": {
      "text/plain": [
       "Segment\n",
       "Government          302\n",
       "Midmarket           100\n",
       "Enterprise          100\n",
       "Small Business      100\n",
       "Channel Partners     98\n",
       "Name: count, dtype: int64"
      ]
     },
     "execution_count": 54,
     "metadata": {},
     "output_type": "execute_result"
    }
   ],
   "source": [
    "df['Segment'].value_counts()"
   ]
  },
  {
   "cell_type": "code",
   "execution_count": 55,
   "id": "155e93b1-80f2-4191-829e-ca5424aebd10",
   "metadata": {},
   "outputs": [
    {
     "data": {
      "text/plain": [
       "16893702.259999998"
      ]
     },
     "execution_count": 55,
     "metadata": {},
     "output_type": "execute_result"
    }
   ],
   "source": [
    "df['Profit'].sum()"
   ]
  },
  {
   "cell_type": "code",
   "execution_count": 59,
   "id": "64dac4d6-1b53-48d0-9edf-7d5c7a41959e",
   "metadata": {},
   "outputs": [],
   "source": [
    "pbs = df.groupby(['Segment']).agg({'Profit':'sum'}).reset_index()"
   ]
  },
  {
   "cell_type": "code",
   "execution_count": 60,
   "id": "a5a847aa-a8c2-402d-8569-6b37b2d33a0b",
   "metadata": {},
   "outputs": [
    {
     "data": {
      "text/html": [
       "<div>\n",
       "<style scoped>\n",
       "    .dataframe tbody tr th:only-of-type {\n",
       "        vertical-align: middle;\n",
       "    }\n",
       "\n",
       "    .dataframe tbody tr th {\n",
       "        vertical-align: top;\n",
       "    }\n",
       "\n",
       "    .dataframe thead th {\n",
       "        text-align: right;\n",
       "    }\n",
       "</style>\n",
       "<table border=\"1\" class=\"dataframe\">\n",
       "  <thead>\n",
       "    <tr style=\"text-align: right;\">\n",
       "      <th></th>\n",
       "      <th>Segment</th>\n",
       "      <th>Profit</th>\n",
       "    </tr>\n",
       "  </thead>\n",
       "  <tbody>\n",
       "    <tr>\n",
       "      <th>0</th>\n",
       "      <td>Channel Partners</td>\n",
       "      <td>1.290808e+06</td>\n",
       "    </tr>\n",
       "    <tr>\n",
       "      <th>1</th>\n",
       "      <td>Enterprise</td>\n",
       "      <td>-6.145456e+05</td>\n",
       "    </tr>\n",
       "    <tr>\n",
       "      <th>2</th>\n",
       "      <td>Government</td>\n",
       "      <td>1.141417e+07</td>\n",
       "    </tr>\n",
       "    <tr>\n",
       "      <th>3</th>\n",
       "      <td>Midmarket</td>\n",
       "      <td>6.601031e+05</td>\n",
       "    </tr>\n",
       "    <tr>\n",
       "      <th>4</th>\n",
       "      <td>Small Business</td>\n",
       "      <td>4.143168e+06</td>\n",
       "    </tr>\n",
       "  </tbody>\n",
       "</table>\n",
       "</div>"
      ],
      "text/plain": [
       "            Segment        Profit\n",
       "0  Channel Partners  1.290808e+06\n",
       "1        Enterprise -6.145456e+05\n",
       "2        Government  1.141417e+07\n",
       "3         Midmarket  6.601031e+05\n",
       "4    Small Business  4.143168e+06"
      ]
     },
     "execution_count": 60,
     "metadata": {},
     "output_type": "execute_result"
    }
   ],
   "source": [
    "pbs"
   ]
  },
  {
   "cell_type": "code",
   "execution_count": 67,
   "id": "f2bd2cba-e412-4146-a63b-0780be13240f",
   "metadata": {},
   "outputs": [],
   "source": [
    "pbc = df.groupby(['Country']).agg({'Profit':'sum'}).reset_index()"
   ]
  },
  {
   "cell_type": "code",
   "execution_count": 68,
   "id": "b88e6474-0740-4361-b6cf-44ac8fbf0b3d",
   "metadata": {},
   "outputs": [
    {
     "data": {
      "text/html": [
       "<div>\n",
       "<style scoped>\n",
       "    .dataframe tbody tr th:only-of-type {\n",
       "        vertical-align: middle;\n",
       "    }\n",
       "\n",
       "    .dataframe tbody tr th {\n",
       "        vertical-align: top;\n",
       "    }\n",
       "\n",
       "    .dataframe thead th {\n",
       "        text-align: right;\n",
       "    }\n",
       "</style>\n",
       "<table border=\"1\" class=\"dataframe\">\n",
       "  <thead>\n",
       "    <tr style=\"text-align: right;\">\n",
       "      <th></th>\n",
       "      <th>Country</th>\n",
       "      <th>Profit</th>\n",
       "    </tr>\n",
       "  </thead>\n",
       "  <tbody>\n",
       "    <tr>\n",
       "      <th>0</th>\n",
       "      <td>Canada</td>\n",
       "      <td>3359437.935</td>\n",
       "    </tr>\n",
       "    <tr>\n",
       "      <th>1</th>\n",
       "      <td>France</td>\n",
       "      <td>4297445.980</td>\n",
       "    </tr>\n",
       "    <tr>\n",
       "      <th>2</th>\n",
       "      <td>Germany</td>\n",
       "      <td>3624167.730</td>\n",
       "    </tr>\n",
       "    <tr>\n",
       "      <th>3</th>\n",
       "      <td>Mexico</td>\n",
       "      <td>2889313.870</td>\n",
       "    </tr>\n",
       "    <tr>\n",
       "      <th>4</th>\n",
       "      <td>USA</td>\n",
       "      <td>2723336.745</td>\n",
       "    </tr>\n",
       "  </tbody>\n",
       "</table>\n",
       "</div>"
      ],
      "text/plain": [
       "   Country       Profit\n",
       "0   Canada  3359437.935\n",
       "1   France  4297445.980\n",
       "2  Germany  3624167.730\n",
       "3   Mexico  2889313.870\n",
       "4      USA  2723336.745"
      ]
     },
     "execution_count": 68,
     "metadata": {},
     "output_type": "execute_result"
    }
   ],
   "source": [
    "pbc"
   ]
  },
  {
   "cell_type": "code",
   "execution_count": 66,
   "id": "bd18adff-6499-4df5-a36b-d7995d589c93",
   "metadata": {},
   "outputs": [],
   "source": [
    "df['Country'] = df['Country'].replace('United States of America','USA')"
   ]
  },
  {
   "cell_type": "code",
   "execution_count": 69,
   "id": "d4c8109e-60b5-4153-bbde-f9ea74c35d67",
   "metadata": {},
   "outputs": [
    {
     "data": {
      "text/plain": [
       "Index(['Segment', 'Country', 'Product', 'Discount Band', 'Units Sold',\n",
       "       'Manufacturing Price', 'Sale Price', 'Gross Sales', 'Discounts',\n",
       "       ' Sales', 'COGS', 'Profit', 'Date', 'Month Number', 'Month Name',\n",
       "       'Year'],\n",
       "      dtype='object')"
      ]
     },
     "execution_count": 69,
     "metadata": {},
     "output_type": "execute_result"
    }
   ],
   "source": [
    "df.columns"
   ]
  },
  {
   "cell_type": "code",
   "execution_count": 70,
   "id": "3c74ffd5-b2b2-40b4-843a-785a36fbf7d3",
   "metadata": {},
   "outputs": [
    {
     "data": {
      "text/plain": [
       "array([2014, 2013], dtype=int64)"
      ]
     },
     "execution_count": 70,
     "metadata": {},
     "output_type": "execute_result"
    }
   ],
   "source": [
    "df['Year'].unique()"
   ]
  },
  {
   "cell_type": "code",
   "execution_count": 71,
   "id": "8a790ed9-2491-41c8-be26-314f1782635f",
   "metadata": {},
   "outputs": [
    {
     "data": {
      "text/html": [
       "<div>\n",
       "<style scoped>\n",
       "    .dataframe tbody tr th:only-of-type {\n",
       "        vertical-align: middle;\n",
       "    }\n",
       "\n",
       "    .dataframe tbody tr th {\n",
       "        vertical-align: top;\n",
       "    }\n",
       "\n",
       "    .dataframe thead th {\n",
       "        text-align: right;\n",
       "    }\n",
       "</style>\n",
       "<table border=\"1\" class=\"dataframe\">\n",
       "  <thead>\n",
       "    <tr style=\"text-align: right;\">\n",
       "      <th></th>\n",
       "      <th>Year</th>\n",
       "      <th>Country</th>\n",
       "      <th>Profit</th>\n",
       "    </tr>\n",
       "  </thead>\n",
       "  <tbody>\n",
       "    <tr>\n",
       "      <th>0</th>\n",
       "      <td>2013</td>\n",
       "      <td>Canada</td>\n",
       "      <td>803671.780</td>\n",
       "    </tr>\n",
       "    <tr>\n",
       "      <th>1</th>\n",
       "      <td>2013</td>\n",
       "      <td>France</td>\n",
       "      <td>811332.170</td>\n",
       "    </tr>\n",
       "    <tr>\n",
       "      <th>2</th>\n",
       "      <td>2013</td>\n",
       "      <td>Germany</td>\n",
       "      <td>1118219.470</td>\n",
       "    </tr>\n",
       "    <tr>\n",
       "      <th>3</th>\n",
       "      <td>2013</td>\n",
       "      <td>Mexico</td>\n",
       "      <td>592670.260</td>\n",
       "    </tr>\n",
       "    <tr>\n",
       "      <th>4</th>\n",
       "      <td>2013</td>\n",
       "      <td>USA</td>\n",
       "      <td>552570.830</td>\n",
       "    </tr>\n",
       "    <tr>\n",
       "      <th>5</th>\n",
       "      <td>2014</td>\n",
       "      <td>Canada</td>\n",
       "      <td>2555766.155</td>\n",
       "    </tr>\n",
       "    <tr>\n",
       "      <th>6</th>\n",
       "      <td>2014</td>\n",
       "      <td>France</td>\n",
       "      <td>3486113.810</td>\n",
       "    </tr>\n",
       "    <tr>\n",
       "      <th>7</th>\n",
       "      <td>2014</td>\n",
       "      <td>Germany</td>\n",
       "      <td>2505948.260</td>\n",
       "    </tr>\n",
       "    <tr>\n",
       "      <th>8</th>\n",
       "      <td>2014</td>\n",
       "      <td>Mexico</td>\n",
       "      <td>2296643.610</td>\n",
       "    </tr>\n",
       "    <tr>\n",
       "      <th>9</th>\n",
       "      <td>2014</td>\n",
       "      <td>USA</td>\n",
       "      <td>2170765.915</td>\n",
       "    </tr>\n",
       "  </tbody>\n",
       "</table>\n",
       "</div>"
      ],
      "text/plain": [
       "   Year  Country       Profit\n",
       "0  2013   Canada   803671.780\n",
       "1  2013   France   811332.170\n",
       "2  2013  Germany  1118219.470\n",
       "3  2013   Mexico   592670.260\n",
       "4  2013      USA   552570.830\n",
       "5  2014   Canada  2555766.155\n",
       "6  2014   France  3486113.810\n",
       "7  2014  Germany  2505948.260\n",
       "8  2014   Mexico  2296643.610\n",
       "9  2014      USA  2170765.915"
      ]
     },
     "execution_count": 71,
     "metadata": {},
     "output_type": "execute_result"
    }
   ],
   "source": [
    "df.groupby(['Year','Country']).agg({'Profit':'sum'}).reset_index()"
   ]
  },
  {
   "cell_type": "code",
   "execution_count": null,
   "id": "71da9910-f713-4bcb-9a2f-5d685ccdc21b",
   "metadata": {},
   "outputs": [],
   "source": []
  }
 ],
 "metadata": {
  "kernelspec": {
   "display_name": "Python 3 (ipykernel)",
   "language": "python",
   "name": "python3"
  },
  "language_info": {
   "codemirror_mode": {
    "name": "ipython",
    "version": 3
   },
   "file_extension": ".py",
   "mimetype": "text/x-python",
   "name": "python",
   "nbconvert_exporter": "python",
   "pygments_lexer": "ipython3",
   "version": "3.12.1"
  }
 },
 "nbformat": 4,
 "nbformat_minor": 5
}
